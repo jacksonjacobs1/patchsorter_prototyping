{
 "cells": [
  {
   "cell_type": "code",
   "execution_count": null,
   "id": "6d832bd7",
   "metadata": {},
   "outputs": [],
   "source": [
    "import os\n",
    "import shutil\n",
    "\n",
    "from tiledb.bioimg import Converters, from_bioimg\n",
    "from tiledb.bioimg.openslide import TileDBOpenSlide\n",
    "\n",
    "root_dir = os.path.expanduser(\"tiledb-bioimg-chunked-ingestion\")\n",
    "\n",
    "if os.path.exists(root_dir):\n",
    "    shutil.rmtree(root_dir)\n",
    "\n",
    "os.makedirs(root_dir)"
   ]
  }
 ],
 "metadata": {
  "language_info": {
   "name": "python"
  }
 },
 "nbformat": 4,
 "nbformat_minor": 5
}
