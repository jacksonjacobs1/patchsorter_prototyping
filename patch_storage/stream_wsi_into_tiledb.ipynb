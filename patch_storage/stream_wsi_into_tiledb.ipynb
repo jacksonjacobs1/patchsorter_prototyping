{
 "cells": [
  {
   "cell_type": "code",
   "execution_count": 1,
   "id": "92435224",
   "metadata": {},
   "outputs": [],
   "source": [
    "from tiledb.bioimg import from_bioimg, Converters\n",
    "import os\n",
    "import shutil"
   ]
  },
  {
   "cell_type": "code",
   "execution_count": null,
   "id": "a140d0da",
   "metadata": {},
   "outputs": [],
   "source": [
    "\n",
    "wsi_dirs = [\n",
    "    '/home/jackson/research/data/test_ndpi/TCGA-23-2072-01Z-00-DX1.478243FF-BFF0-48A4-ADEA-DE789331A50E.svs',\n",
    "    '~/emory_ts/personal_space/JJACO34/TCGA-23-2072-01Z-00-DX1.478243FF-BFF0-48A4-ADEA-DE789331A50E.svs'\n",
    "]\n",
    "\n",
    "array_uri=\"data/tiledb-bioimg-chunked-ingestion\"\n",
    "if os.path.exists(array_uri):\n",
    "    shutil.rmtree(array_uri)\n",
    "\n",
    "os.makedirs(array_uri)"
   ]
  },
  {
   "cell_type": "markdown",
   "id": "7e3eb5ea",
   "metadata": {},
   "source": [
    "First let's try to ingest the WSI into TileDB without chunking."
   ]
  },
  {
   "cell_type": "code",
   "execution_count": 3,
   "id": "5e59ec74",
   "metadata": {},
   "outputs": [],
   "source": [
    "# from_bioimg(\n",
    "#     src=wsi_dirs[0],\n",
    "#     dest=array_uri,\n",
    "#     converter=Converters.OMETIFF\n",
    "# )"
   ]
  },
  {
   "cell_type": "markdown",
   "id": "d86187f8",
   "metadata": {},
   "source": [
    "Okay... so that crashed my computer. Let's try chunking it into smaller pieces."
   ]
  },
  {
   "cell_type": "code",
   "execution_count": 4,
   "id": "08ae3f4c",
   "metadata": {},
   "outputs": [
    {
     "name": "stderr",
     "output_type": "stream",
     "text": [
      "Ingesting level 0: 100%|██████████| 11250/11250 [09:53<00:00, 18.96tiles/s]\n",
      "Ingesting level 1: 100%|██████████| 736/736 [00:40<00:00, 18.34tiles/s]\n",
      "Ingesting level 2: 100%|██████████| 48/48 [00:02<00:00, 17.61tiles/s]\n",
      "Ingesting level 3: 100%|██████████| 12/12 [00:00<00:00, 16.85tiles/s]\n"
     ]
    },
    {
     "data": {
      "text/plain": [
       "tiledb.bioimg.converters.ome_tiff.OMETiffConverter"
      ]
     },
     "execution_count": 4,
     "metadata": {},
     "output_type": "execute_result"
    }
   ],
   "source": [
    "from_bioimg(\n",
    "    src=wsi_dirs[0],\n",
    "    dest=array_uri,\n",
    "    converter=Converters.OMETIFF,\n",
    "    chunked=True\n",
    ")"
   ]
  },
  {
   "cell_type": "markdown",
   "id": "9cb6c0d1",
   "metadata": {},
   "source": [
    "Chunked ingestion works much better.\n",
    "- Time to ingest local file: 9 minutes\n",
    "- Time to ingest remote file: 30 minutes\n",
    "\n",
    "Each chunk creates a new fragment in TileDB - results in thousands of fragments per WSI."
   ]
  },
  {
   "cell_type": "code",
   "execution_count": null,
   "id": "6d832bd7",
   "metadata": {},
   "outputs": [],
   "source": [
    "# if os.path.exists(array_uri):\n",
    "#     shutil.rmtree(array_uri)"
   ]
  }
 ],
 "metadata": {
  "kernelspec": {
   "display_name": "patchsorter-prototyping",
   "language": "python",
   "name": "python3"
  },
  "language_info": {
   "codemirror_mode": {
    "name": "ipython",
    "version": 3
   },
   "file_extension": ".py",
   "mimetype": "text/x-python",
   "name": "python",
   "nbconvert_exporter": "python",
   "pygments_lexer": "ipython3",
   "version": "3.9.21"
  }
 },
 "nbformat": 4,
 "nbformat_minor": 5
}
